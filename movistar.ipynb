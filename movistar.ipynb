{
 "cells": [
  {
   "cell_type": "code",
   "execution_count": 9,
   "metadata": {},
   "outputs": [],
   "source": [
    "import pyodbc\n",
    "import pandas as pd\n",
    "import numpy as np \n",
    "import seaborn as sns \n",
    "import matplotlib.pyplot as plt"
   ]
  },
  {
   "cell_type": "code",
   "execution_count": 4,
   "metadata": {},
   "outputs": [
    {
     "name": "stderr",
     "output_type": "stream",
     "text": [
      "C:\\Users\\nando\\AppData\\Local\\Temp\\ipykernel_19688\\1321125109.py:7: UserWarning: pandas only supports SQLAlchemy connectable (engine/connection) or database string URI or sqlite3 DBAPI2 connection. Other DBAPI2 objects are not tested. Please consider using SQLAlchemy.\n",
      "  df = pd.read_sql(query, conn)\n"
     ]
    },
    {
     "data": {
      "text/html": [
       "<div>\n",
       "<style scoped>\n",
       "    .dataframe tbody tr th:only-of-type {\n",
       "        vertical-align: middle;\n",
       "    }\n",
       "\n",
       "    .dataframe tbody tr th {\n",
       "        vertical-align: top;\n",
       "    }\n",
       "\n",
       "    .dataframe thead th {\n",
       "        text-align: right;\n",
       "    }\n",
       "</style>\n",
       "<table border=\"1\" class=\"dataframe\">\n",
       "  <thead>\n",
       "    <tr style=\"text-align: right;\">\n",
       "      <th></th>\n",
       "      <th>id_cliente</th>\n",
       "      <th>edad</th>\n",
       "      <th>genero</th>\n",
       "      <th>antiguedad_meses</th>\n",
       "      <th>plan_actual</th>\n",
       "      <th>factura_mensual</th>\n",
       "      <th>uso_datos_gb</th>\n",
       "      <th>llamadas_minutos</th>\n",
       "      <th>servicio_atencion</th>\n",
       "      <th>reclamos</th>\n",
       "      <th>churn</th>\n",
       "    </tr>\n",
       "  </thead>\n",
       "  <tbody>\n",
       "    <tr>\n",
       "      <th>0</th>\n",
       "      <td>1</td>\n",
       "      <td>56</td>\n",
       "      <td>Femenino</td>\n",
       "      <td>51</td>\n",
       "      <td>Fibra</td>\n",
       "      <td>121.73</td>\n",
       "      <td>23.66</td>\n",
       "      <td>870</td>\n",
       "      <td>2</td>\n",
       "      <td>2</td>\n",
       "      <td>False</td>\n",
       "    </tr>\n",
       "    <tr>\n",
       "      <th>1</th>\n",
       "      <td>2</td>\n",
       "      <td>69</td>\n",
       "      <td>Masculino</td>\n",
       "      <td>81</td>\n",
       "      <td>Postpago</td>\n",
       "      <td>91.75</td>\n",
       "      <td>24.03</td>\n",
       "      <td>1812</td>\n",
       "      <td>0</td>\n",
       "      <td>1</td>\n",
       "      <td>False</td>\n",
       "    </tr>\n",
       "    <tr>\n",
       "      <th>2</th>\n",
       "      <td>3</td>\n",
       "      <td>46</td>\n",
       "      <td>Masculino</td>\n",
       "      <td>5</td>\n",
       "      <td>Dúo</td>\n",
       "      <td>93.77</td>\n",
       "      <td>22.86</td>\n",
       "      <td>1050</td>\n",
       "      <td>2</td>\n",
       "      <td>1</td>\n",
       "      <td>False</td>\n",
       "    </tr>\n",
       "    <tr>\n",
       "      <th>3</th>\n",
       "      <td>4</td>\n",
       "      <td>32</td>\n",
       "      <td>Femenino</td>\n",
       "      <td>29</td>\n",
       "      <td>Postpago</td>\n",
       "      <td>186.62</td>\n",
       "      <td>18.20</td>\n",
       "      <td>383</td>\n",
       "      <td>1</td>\n",
       "      <td>0</td>\n",
       "      <td>False</td>\n",
       "    </tr>\n",
       "    <tr>\n",
       "      <th>4</th>\n",
       "      <td>5</td>\n",
       "      <td>60</td>\n",
       "      <td>Masculino</td>\n",
       "      <td>4</td>\n",
       "      <td>Trío</td>\n",
       "      <td>191.54</td>\n",
       "      <td>65.92</td>\n",
       "      <td>271</td>\n",
       "      <td>0</td>\n",
       "      <td>2</td>\n",
       "      <td>False</td>\n",
       "    </tr>\n",
       "    <tr>\n",
       "      <th>...</th>\n",
       "      <td>...</td>\n",
       "      <td>...</td>\n",
       "      <td>...</td>\n",
       "      <td>...</td>\n",
       "      <td>...</td>\n",
       "      <td>...</td>\n",
       "      <td>...</td>\n",
       "      <td>...</td>\n",
       "      <td>...</td>\n",
       "      <td>...</td>\n",
       "      <td>...</td>\n",
       "    </tr>\n",
       "    <tr>\n",
       "      <th>495</th>\n",
       "      <td>496</td>\n",
       "      <td>65</td>\n",
       "      <td>Masculino</td>\n",
       "      <td>117</td>\n",
       "      <td>Trío</td>\n",
       "      <td>81.04</td>\n",
       "      <td>27.07</td>\n",
       "      <td>1490</td>\n",
       "      <td>3</td>\n",
       "      <td>1</td>\n",
       "      <td>False</td>\n",
       "    </tr>\n",
       "    <tr>\n",
       "      <th>496</th>\n",
       "      <td>497</td>\n",
       "      <td>42</td>\n",
       "      <td>Femenino</td>\n",
       "      <td>88</td>\n",
       "      <td>Fibra</td>\n",
       "      <td>60.89</td>\n",
       "      <td>5.57</td>\n",
       "      <td>1289</td>\n",
       "      <td>4</td>\n",
       "      <td>0</td>\n",
       "      <td>False</td>\n",
       "    </tr>\n",
       "    <tr>\n",
       "      <th>497</th>\n",
       "      <td>498</td>\n",
       "      <td>57</td>\n",
       "      <td>Femenino</td>\n",
       "      <td>33</td>\n",
       "      <td>Dúo</td>\n",
       "      <td>179.07</td>\n",
       "      <td>57.15</td>\n",
       "      <td>456</td>\n",
       "      <td>4</td>\n",
       "      <td>1</td>\n",
       "      <td>False</td>\n",
       "    </tr>\n",
       "    <tr>\n",
       "      <th>498</th>\n",
       "      <td>499</td>\n",
       "      <td>62</td>\n",
       "      <td>Masculino</td>\n",
       "      <td>49</td>\n",
       "      <td>Fibra</td>\n",
       "      <td>162.15</td>\n",
       "      <td>29.10</td>\n",
       "      <td>448</td>\n",
       "      <td>0</td>\n",
       "      <td>2</td>\n",
       "      <td>False</td>\n",
       "    </tr>\n",
       "    <tr>\n",
       "      <th>499</th>\n",
       "      <td>500</td>\n",
       "      <td>18</td>\n",
       "      <td>Femenino</td>\n",
       "      <td>29</td>\n",
       "      <td>Prepago</td>\n",
       "      <td>165.63</td>\n",
       "      <td>82.63</td>\n",
       "      <td>1996</td>\n",
       "      <td>2</td>\n",
       "      <td>0</td>\n",
       "      <td>False</td>\n",
       "    </tr>\n",
       "  </tbody>\n",
       "</table>\n",
       "<p>500 rows × 11 columns</p>\n",
       "</div>"
      ],
      "text/plain": [
       "     id_cliente  edad     genero  antiguedad_meses plan_actual  \\\n",
       "0             1    56   Femenino                51       Fibra   \n",
       "1             2    69  Masculino                81    Postpago   \n",
       "2             3    46  Masculino                 5         Dúo   \n",
       "3             4    32   Femenino                29    Postpago   \n",
       "4             5    60  Masculino                 4        Trío   \n",
       "..          ...   ...        ...               ...         ...   \n",
       "495         496    65  Masculino               117        Trío   \n",
       "496         497    42   Femenino                88       Fibra   \n",
       "497         498    57   Femenino                33         Dúo   \n",
       "498         499    62  Masculino                49       Fibra   \n",
       "499         500    18   Femenino                29     Prepago   \n",
       "\n",
       "     factura_mensual  uso_datos_gb  llamadas_minutos  servicio_atencion  \\\n",
       "0             121.73         23.66               870                  2   \n",
       "1              91.75         24.03              1812                  0   \n",
       "2              93.77         22.86              1050                  2   \n",
       "3             186.62         18.20               383                  1   \n",
       "4             191.54         65.92               271                  0   \n",
       "..               ...           ...               ...                ...   \n",
       "495            81.04         27.07              1490                  3   \n",
       "496            60.89          5.57              1289                  4   \n",
       "497           179.07         57.15               456                  4   \n",
       "498           162.15         29.10               448                  0   \n",
       "499           165.63         82.63              1996                  2   \n",
       "\n",
       "     reclamos  churn  \n",
       "0           2  False  \n",
       "1           1  False  \n",
       "2           1  False  \n",
       "3           0  False  \n",
       "4           2  False  \n",
       "..        ...    ...  \n",
       "495         1  False  \n",
       "496         0  False  \n",
       "497         1  False  \n",
       "498         2  False  \n",
       "499         0  False  \n",
       "\n",
       "[500 rows x 11 columns]"
      ]
     },
     "execution_count": 4,
     "metadata": {},
     "output_type": "execute_result"
    }
   ],
   "source": [
    "conn = pyodbc.connect(r'DRIVER={ODBC Driver 17 for SQL Server};SERVER=FERNANDO\\MSSQLSERVER02;DATABASE=bd_movistar;Trusted_Connection=yes')\n",
    "query = '''\n",
    "\n",
    "SELECT * FROM clientes_movistar;\n",
    "\n",
    "'''\n",
    "df = pd.read_sql(query, conn)\n",
    "df"
   ]
  },
  {
   "cell_type": "markdown",
   "metadata": {},
   "source": [
    "#VIENDO LA ESTRUCTURA"
   ]
  },
  {
   "cell_type": "code",
   "execution_count": 5,
   "metadata": {},
   "outputs": [
    {
     "name": "stdout",
     "output_type": "stream",
     "text": [
      "<class 'pandas.core.frame.DataFrame'>\n",
      "RangeIndex: 500 entries, 0 to 499\n",
      "Data columns (total 11 columns):\n",
      " #   Column             Non-Null Count  Dtype  \n",
      "---  ------             --------------  -----  \n",
      " 0   id_cliente         500 non-null    int64  \n",
      " 1   edad               500 non-null    int64  \n",
      " 2   genero             500 non-null    object \n",
      " 3   antiguedad_meses   500 non-null    int64  \n",
      " 4   plan_actual        500 non-null    object \n",
      " 5   factura_mensual    500 non-null    float64\n",
      " 6   uso_datos_gb       500 non-null    float64\n",
      " 7   llamadas_minutos   500 non-null    int64  \n",
      " 8   servicio_atencion  500 non-null    int64  \n",
      " 9   reclamos           500 non-null    int64  \n",
      " 10  churn              500 non-null    bool   \n",
      "dtypes: bool(1), float64(2), int64(6), object(2)\n",
      "memory usage: 39.7+ KB\n"
     ]
    }
   ],
   "source": [
    "df.info()"
   ]
  },
  {
   "cell_type": "markdown",
   "metadata": {},
   "source": [
    "#Estadisticas"
   ]
  },
  {
   "cell_type": "code",
   "execution_count": 6,
   "metadata": {},
   "outputs": [
    {
     "data": {
      "text/html": [
       "<div>\n",
       "<style scoped>\n",
       "    .dataframe tbody tr th:only-of-type {\n",
       "        vertical-align: middle;\n",
       "    }\n",
       "\n",
       "    .dataframe tbody tr th {\n",
       "        vertical-align: top;\n",
       "    }\n",
       "\n",
       "    .dataframe thead th {\n",
       "        text-align: right;\n",
       "    }\n",
       "</style>\n",
       "<table border=\"1\" class=\"dataframe\">\n",
       "  <thead>\n",
       "    <tr style=\"text-align: right;\">\n",
       "      <th></th>\n",
       "      <th>id_cliente</th>\n",
       "      <th>edad</th>\n",
       "      <th>antiguedad_meses</th>\n",
       "      <th>factura_mensual</th>\n",
       "      <th>uso_datos_gb</th>\n",
       "      <th>llamadas_minutos</th>\n",
       "      <th>servicio_atencion</th>\n",
       "      <th>reclamos</th>\n",
       "    </tr>\n",
       "  </thead>\n",
       "  <tbody>\n",
       "    <tr>\n",
       "      <th>count</th>\n",
       "      <td>500.000000</td>\n",
       "      <td>500.000000</td>\n",
       "      <td>500.000000</td>\n",
       "      <td>500.000000</td>\n",
       "      <td>500.000000</td>\n",
       "      <td>500.000000</td>\n",
       "      <td>500.000000</td>\n",
       "      <td>500.000000</td>\n",
       "    </tr>\n",
       "    <tr>\n",
       "      <th>mean</th>\n",
       "      <td>250.500000</td>\n",
       "      <td>44.220000</td>\n",
       "      <td>57.794000</td>\n",
       "      <td>133.889540</td>\n",
       "      <td>49.526140</td>\n",
       "      <td>1078.204000</td>\n",
       "      <td>2.010000</td>\n",
       "      <td>0.984000</td>\n",
       "    </tr>\n",
       "    <tr>\n",
       "      <th>std</th>\n",
       "      <td>144.481833</td>\n",
       "      <td>15.036082</td>\n",
       "      <td>35.056433</td>\n",
       "      <td>62.719005</td>\n",
       "      <td>29.182832</td>\n",
       "      <td>563.161942</td>\n",
       "      <td>1.426172</td>\n",
       "      <td>0.827716</td>\n",
       "    </tr>\n",
       "    <tr>\n",
       "      <th>min</th>\n",
       "      <td>1.000000</td>\n",
       "      <td>18.000000</td>\n",
       "      <td>1.000000</td>\n",
       "      <td>20.080000</td>\n",
       "      <td>1.020000</td>\n",
       "      <td>50.000000</td>\n",
       "      <td>0.000000</td>\n",
       "      <td>0.000000</td>\n",
       "    </tr>\n",
       "    <tr>\n",
       "      <th>25%</th>\n",
       "      <td>125.750000</td>\n",
       "      <td>32.000000</td>\n",
       "      <td>27.000000</td>\n",
       "      <td>79.010000</td>\n",
       "      <td>23.327500</td>\n",
       "      <td>574.250000</td>\n",
       "      <td>1.000000</td>\n",
       "      <td>0.000000</td>\n",
       "    </tr>\n",
       "    <tr>\n",
       "      <th>50%</th>\n",
       "      <td>250.500000</td>\n",
       "      <td>45.000000</td>\n",
       "      <td>56.000000</td>\n",
       "      <td>137.570000</td>\n",
       "      <td>49.145000</td>\n",
       "      <td>1108.000000</td>\n",
       "      <td>2.000000</td>\n",
       "      <td>1.000000</td>\n",
       "    </tr>\n",
       "    <tr>\n",
       "      <th>75%</th>\n",
       "      <td>375.250000</td>\n",
       "      <td>57.000000</td>\n",
       "      <td>89.000000</td>\n",
       "      <td>184.462500</td>\n",
       "      <td>75.187500</td>\n",
       "      <td>1574.250000</td>\n",
       "      <td>3.000000</td>\n",
       "      <td>2.000000</td>\n",
       "    </tr>\n",
       "    <tr>\n",
       "      <th>max</th>\n",
       "      <td>500.000000</td>\n",
       "      <td>69.000000</td>\n",
       "      <td>119.000000</td>\n",
       "      <td>248.960000</td>\n",
       "      <td>99.710000</td>\n",
       "      <td>1996.000000</td>\n",
       "      <td>4.000000</td>\n",
       "      <td>2.000000</td>\n",
       "    </tr>\n",
       "  </tbody>\n",
       "</table>\n",
       "</div>"
      ],
      "text/plain": [
       "       id_cliente        edad  antiguedad_meses  factura_mensual  \\\n",
       "count  500.000000  500.000000        500.000000       500.000000   \n",
       "mean   250.500000   44.220000         57.794000       133.889540   \n",
       "std    144.481833   15.036082         35.056433        62.719005   \n",
       "min      1.000000   18.000000          1.000000        20.080000   \n",
       "25%    125.750000   32.000000         27.000000        79.010000   \n",
       "50%    250.500000   45.000000         56.000000       137.570000   \n",
       "75%    375.250000   57.000000         89.000000       184.462500   \n",
       "max    500.000000   69.000000        119.000000       248.960000   \n",
       "\n",
       "       uso_datos_gb  llamadas_minutos  servicio_atencion    reclamos  \n",
       "count    500.000000        500.000000         500.000000  500.000000  \n",
       "mean      49.526140       1078.204000           2.010000    0.984000  \n",
       "std       29.182832        563.161942           1.426172    0.827716  \n",
       "min        1.020000         50.000000           0.000000    0.000000  \n",
       "25%       23.327500        574.250000           1.000000    0.000000  \n",
       "50%       49.145000       1108.000000           2.000000    1.000000  \n",
       "75%       75.187500       1574.250000           3.000000    2.000000  \n",
       "max       99.710000       1996.000000           4.000000    2.000000  "
      ]
     },
     "execution_count": 6,
     "metadata": {},
     "output_type": "execute_result"
    }
   ],
   "source": [
    "df.describe()"
   ]
  },
  {
   "cell_type": "markdown",
   "metadata": {},
   "source": [
    "#Cuantos abandonaron"
   ]
  },
  {
   "cell_type": "code",
   "execution_count": 7,
   "metadata": {},
   "outputs": [
    {
     "data": {
      "text/plain": [
       "churn\n",
       "False    403\n",
       "True      97\n",
       "Name: count, dtype: int64"
      ]
     },
     "execution_count": 7,
     "metadata": {},
     "output_type": "execute_result"
    }
   ],
   "source": [
    "df[\"churn\"].value_counts()"
   ]
  },
  {
   "cell_type": "markdown",
   "metadata": {},
   "source": [
    "#Revisando si hay valores nulos"
   ]
  },
  {
   "cell_type": "code",
   "execution_count": 8,
   "metadata": {},
   "outputs": [
    {
     "data": {
      "text/plain": [
       "id_cliente           0\n",
       "edad                 0\n",
       "genero               0\n",
       "antiguedad_meses     0\n",
       "plan_actual          0\n",
       "factura_mensual      0\n",
       "uso_datos_gb         0\n",
       "llamadas_minutos     0\n",
       "servicio_atencion    0\n",
       "reclamos             0\n",
       "churn                0\n",
       "dtype: int64"
      ]
     },
     "execution_count": 8,
     "metadata": {},
     "output_type": "execute_result"
    }
   ],
   "source": [
    "df.isnull().sum()"
   ]
  },
  {
   "cell_type": "markdown",
   "metadata": {},
   "source": [
    "#Visualizando la distribucion de edades"
   ]
  },
  {
   "cell_type": "code",
   "execution_count": 10,
   "metadata": {},
   "outputs": [
    {
     "data": {
      "image/png": "[encoded data removed]",
      "text/plain": [
       "<Figure size 640x480 with 1 Axes>"
      ]
     },
     "metadata": {},
     "output_type": "display_data"
    }
   ],
   "source": [
    "sns.histplot(df[\"edad\"], bins=20, kde=True)\n",
    "plt.title(\"Distribucion de Edades de Clientes Movistar\")\n",
    "plt.show()"
   ]
  },
  {
   "cell_type": "markdown",
   "metadata": {},
   "source": [
    "#Clientes que abandonaron vs los que no: "
   ]
  },
  {
   "cell_type": "code",
   "execution_count": 11,
   "metadata": {},
   "outputs": [
    {
     "data": {
      "image/png": "[encoded data removed]",
      "text/plain": [
       "<Figure size 640x480 with 1 Axes>"
      ]
     },
     "metadata": {},
     "output_type": "display_data"
    }
   ],
   "source": [
    "sns.countplot(x=df[\"churn\"])\n",
    "plt.title(\"Clientes que Abandonaron (1) vs No (0)\")\n",
    "plt.show()"
   ]
  },
  {
   "cell_type": "markdown",
   "metadata": {},
   "source": [
    "#Segmentacion de clientes"
   ]
  },
  {
   "cell_type": "code",
   "execution_count": 12,
   "metadata": {},
   "outputs": [
    {
     "name": "stdout",
     "output_type": "stream",
     "text": [
      "segmento\n",
      "Alto Riesgo     300\n",
      "Medio Riesgo    162\n",
      "Bajo Riesgo      38\n",
      "Name: count, dtype: int64\n"
     ]
    }
   ],
   "source": [
    "def categorizar_cliente(row):\n",
    "    if row[\"reclamos\"] == 0 and row[\"servicio_atencion\"] == 0:\n",
    "        return \"Bajo Riesgo\"\n",
    "    elif row[\"reclamos\"] <= 1 and row[\"servicio_atencion\"] <= 2:\n",
    "        return \"Medio Riesgo\"\n",
    "    else:\n",
    "        return \"Alto Riesgo\"\n",
    "\n",
    "df[\"segmento\"] = df.apply(categorizar_cliente, axis=1)\n",
    "print(df[\"segmento\"].value_counts())\n"
   ]
  },
  {
   "cell_type": "code",
   "execution_count": 13,
   "metadata": {},
   "outputs": [
    {
     "name": "stderr",
     "output_type": "stream",
     "text": [
      "C:\\Users\\nando\\AppData\\Local\\Temp\\ipykernel_19688\\1474989846.py:1: FutureWarning: \n",
      "\n",
      "Passing `palette` without assigning `hue` is deprecated and will be removed in v0.14.0. Assign the `x` variable to `hue` and set `legend=False` for the same effect.\n",
      "\n",
      "  sns.countplot(x=df[\"segmento\"], palette=\"coolwarm\")\n"
     ]
    },
    {
     "data": {
      "image/png": "[encoded data removed]",
      "text/plain": [
       "<Figure size 640x480 with 1 Axes>"
      ]
     },
     "metadata": {},
     "output_type": "display_data"
    }
   ],
   "source": [
    "sns.countplot(x=df[\"segmento\"], palette=\"coolwarm\")\n",
    "plt.title(\"Segmentación de Clientes Movistar\")\n",
    "plt.show()\n"
   ]
  },
  {
   "cell_type": "markdown",
   "metadata": {},
   "source": [
    "#Guardando reporte final "
   ]
  },
  {
   "cell_type": "code",
   "execution_count": 14,
   "metadata": {},
   "outputs": [
    {
     "name": "stdout",
     "output_type": "stream",
     "text": [
      "Reporte guardado con éxito.\n"
     ]
    }
   ],
   "source": [
    "df.to_excel(\"reporte_movistar.xlsx\", index=False)\n",
    "print(\"Reporte guardado con éxito.\")\n"
   ]
  }
 ],
 "metadata": {
  "kernelspec": {
   "display_name": "base",
   "language": "python",
   "name": "python3"
  },
  "language_info": {
   "codemirror_mode": {
    "name": "ipython",
    "version": 3
   },
   "file_extension": ".py",
   "mimetype": "text/x-python",
   "name": "python",
   "nbconvert_exporter": "python",
   "pygments_lexer": "ipython3",
   "version": "3.12.3"
  }
 },
 "nbformat": 4,
 "nbformat_minor": 2
}
